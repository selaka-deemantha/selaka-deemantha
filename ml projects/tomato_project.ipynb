{
 "cells": [
  {
   "cell_type": "code",
   "execution_count": 2,
   "id": "a91b4c57",
   "metadata": {},
   "outputs": [],
   "source": [
    "import tensorflow as tf\n",
    "from tensorflow.keras import models,layers\n",
    "import matplotlib.pyplot as plt"
   ]
  },
  {
   "cell_type": "code",
   "execution_count": 3,
   "id": "986d461c",
   "metadata": {},
   "outputs": [],
   "source": [
    "image_size=256\n",
    "batch_size=32\n",
    "channels=3"
   ]
  },
  {
   "cell_type": "code",
   "execution_count": 4,
   "id": "55ea4cae",
   "metadata": {},
   "outputs": [
    {
     "name": "stdout",
     "output_type": "stream",
     "text": [
      "Found 16011 files belonging to 10 classes.\n"
     ]
    }
   ],
   "source": [
    "dataset=tf.keras.preprocessing.image_dataset_from_directory(\n",
    "    \"plant\",\n",
    "    shuffle=True,\n",
    "    image_size=(image_size,image_size),\n",
    "    batch_size=batch_size,\n",
    "\n",
    "\n",
    ")"
   ]
  },
  {
   "cell_type": "code",
   "execution_count": 5,
   "id": "6784279f",
   "metadata": {},
   "outputs": [
    {
     "data": {
      "text/plain": [
       "['Tomato_Bacterial_spot',\n",
       " 'Tomato_Early_blight',\n",
       " 'Tomato_Late_blight',\n",
       " 'Tomato_Leaf_Mold',\n",
       " 'Tomato_Septoria_leaf_spot',\n",
       " 'Tomato_Spider_mites_Two_spotted_spider_mite',\n",
       " 'Tomato__Target_Spot',\n",
       " 'Tomato__Tomato_YellowLeaf__Curl_Virus',\n",
       " 'Tomato__Tomato_mosaic_virus',\n",
       " 'Tomato_healthy']"
      ]
     },
     "execution_count": 5,
     "metadata": {},
     "output_type": "execute_result"
    }
   ],
   "source": [
    "class_names=dataset.class_names\n",
    "class_names\n"
   ]
  },
  {
   "cell_type": "code",
   "execution_count": 6,
   "id": "18a4f1f2",
   "metadata": {},
   "outputs": [],
   "source": [
    "def get_dataset_partition_tf(ds,train_split=0.8,val_split=0.1,test_split=0.1,shuffle=True,shuffle_size=1000):\n",
    "    ds_size=len(ds)\n",
    "    if shuffle:\n",
    "        ds=ds.shuffle(shuffle_size,seed=12)\n",
    "    \n",
    "    train_size=int(train_split*ds_size)\n",
    "    val_size=int(val_split*ds_size)\n",
    "    train_ds=ds.take(train_size)\n",
    "    val_ds=ds.skip(train_size).take(val_size)\n",
    "    test_ds=ds.skip(train_size).skip(val_size)\n",
    "\n",
    "    return train_ds,val_ds,test_ds"
   ]
  },
  {
   "cell_type": "code",
   "execution_count": 7,
   "id": "3a4b4b00",
   "metadata": {},
   "outputs": [],
   "source": [
    "train_ds,val_ds,test_ds=get_dataset_partition_tf(dataset)\n"
   ]
  },
  {
   "cell_type": "code",
   "execution_count": 8,
   "id": "38027245",
   "metadata": {},
   "outputs": [
    {
     "data": {
      "text/plain": [
       "400"
      ]
     },
     "execution_count": 8,
     "metadata": {},
     "output_type": "execute_result"
    }
   ],
   "source": [
    "len(train_ds)"
   ]
  },
  {
   "cell_type": "code",
   "execution_count": 11,
   "id": "40ba975a",
   "metadata": {
    "scrolled": true
   },
   "outputs": [],
   "source": [
    "train_ds=train_ds.cache().shuffle(1000).prefetch(buffer_size=tf.data.AUTOTUNE)\n",
    "val_ds=val_ds.cache().shuffle(1000).prefetch(buffer_size=tf.data.AUTOTUNE)\n",
    "test_ds=test_ds.cache().shuffle(1000).prefetch(buffer_size=tf.data.AUTOTUNE)"
   ]
  },
  {
   "cell_type": "code",
   "execution_count": 12,
   "id": "0996540f",
   "metadata": {},
   "outputs": [],
   "source": [
    "resizing_and_rescaling=tf.keras.Sequential([\n",
    "    layers.experimental.preprocessing.Resizing(image_size,image_size),\n",
    "    layers.experimental.preprocessing.Rescaling(1.0/255)\n",
    "])"
   ]
  },
  {
   "cell_type": "code",
   "execution_count": 13,
   "id": "d919ab1b",
   "metadata": {},
   "outputs": [],
   "source": [
    "data_argumentation=tf.keras.Sequential([\n",
    "    layers.experimental.preprocessing.RandomFlip('horizontal_and_vertical'),\n",
    "    layers.experimental.preprocessing.RandomRotation(0.2)\n",
    "])"
   ]
  },
  {
   "cell_type": "code",
   "execution_count": 22,
   "id": "c412ff0c",
   "metadata": {},
   "outputs": [],
   "source": [
    "input_shape=(batch_size,image_size,image_size,channels)\n",
    "model=models.Sequential([\n",
    "    \n",
    " \n",
    "    resizing_and_rescaling,\n",
    "    \n",
    "    data_argumentation,\n",
    "    \n",
    "    \n",
    "    layers.Conv2D(32,(3,3),activation='relu',input_shape=input_shape),\n",
    "    layers.MaxPooling2D(2,2),\n",
    "    \n",
    "    layers.Conv2D(64,(3,3),activation='relu'),\n",
    "    layers.MaxPooling2D(2,2),\n",
    "    \n",
    "    layers.Conv2D(64,(3,3),activation='relu'),\n",
    "    layers.MaxPooling2D(2,2),\n",
    "    \n",
    "    layers.Conv2D(64,(3,3),activation='relu'),\n",
    "    layers.MaxPooling2D(2,2),\n",
    "    \n",
    "    layers.Flatten(),\n",
    "    layers.Dense(64,activation='relu'),\n",
    "    layers.Dense(10,activation='softmax'),\n",
    "])\n",
    "model.build(input_shape=input_shape)"
   ]
  },
  {
   "cell_type": "code",
   "execution_count": 23,
   "id": "e83ef57d",
   "metadata": {},
   "outputs": [],
   "source": [
    "model.compile(\n",
    "    \n",
    "    optimizer='adam',\n",
    "    loss=tf.keras.losses.SparseCategoricalCrossentropy(from_logits=False),\n",
    "    metrics=['accuracy']\n",
    ")"
   ]
  },
  {
   "cell_type": "code",
   "execution_count": 25,
   "id": "e583a478",
   "metadata": {},
   "outputs": [
    {
     "name": "stdout",
     "output_type": "stream",
     "text": [
      "Epoch 1/10\n",
      "400/400 [==============================] - 668s 2s/step - loss: 1.3788 - accuracy: 0.5044 - val_loss: 1.2433 - val_accuracy: 0.5850\n",
      "Epoch 2/10\n",
      "400/400 [==============================] - 623s 2s/step - loss: 0.7268 - accuracy: 0.7432 - val_loss: 0.9347 - val_accuracy: 0.6831\n",
      "Epoch 3/10\n",
      "400/400 [==============================] - 620s 2s/step - loss: 0.5766 - accuracy: 0.7977 - val_loss: 0.9348 - val_accuracy: 0.7038\n",
      "Epoch 4/10\n",
      "400/400 [==============================] - 620s 2s/step - loss: 0.4467 - accuracy: 0.8462 - val_loss: 0.9123 - val_accuracy: 0.7019\n",
      "Epoch 5/10\n",
      "400/400 [==============================] - 602s 2s/step - loss: 0.3988 - accuracy: 0.8623 - val_loss: 0.9581 - val_accuracy: 0.6875\n",
      "Epoch 6/10\n",
      "400/400 [==============================] - 596s 1s/step - loss: 0.3582 - accuracy: 0.8762 - val_loss: 0.9116 - val_accuracy: 0.7650\n",
      "Epoch 7/10\n",
      "400/400 [==============================] - 597s 1s/step - loss: 0.3134 - accuracy: 0.8905 - val_loss: 0.5893 - val_accuracy: 0.8331\n",
      "Epoch 8/10\n",
      "400/400 [==============================] - 590s 1s/step - loss: 0.2696 - accuracy: 0.9037 - val_loss: 0.3655 - val_accuracy: 0.8788\n",
      "Epoch 9/10\n",
      "400/400 [==============================] - 588s 1s/step - loss: 0.2496 - accuracy: 0.9162 - val_loss: 0.3968 - val_accuracy: 0.8687\n",
      "Epoch 10/10\n",
      "400/400 [==============================] - 590s 1s/step - loss: 0.2511 - accuracy: 0.9143 - val_loss: 0.6270 - val_accuracy: 0.7875\n"
     ]
    }
   ],
   "source": [
    "history=model.fit(\n",
    "    train_ds,\n",
    "    epochs=10,\n",
    "    batch_size=batch_size,\n",
    "    verbose=1,\n",
    "    validation_data=val_ds,\n",
    "\n",
    ")"
   ]
  },
  {
   "cell_type": "code",
   "execution_count": 26,
   "id": "c5691601",
   "metadata": {},
   "outputs": [
    {
     "name": "stdout",
     "output_type": "stream",
     "text": [
      "51/51 [==============================] - 34s 335ms/step - loss: 0.6445 - accuracy: 0.7911\n"
     ]
    }
   ],
   "source": [
    "score=model.evaluate(test_ds)"
   ]
  },
  {
   "cell_type": "code",
   "execution_count": 27,
   "id": "6d73caab",
   "metadata": {},
   "outputs": [
    {
     "data": {
      "text/plain": [
       "[0.6445393562316895, 0.7910539507865906]"
      ]
     },
     "execution_count": 27,
     "metadata": {},
     "output_type": "execute_result"
    }
   ],
   "source": [
    "score\n"
   ]
  },
  {
   "cell_type": "code",
   "execution_count": null,
   "id": "b75fdf54",
   "metadata": {},
   "outputs": [],
   "source": []
  }
 ],
 "metadata": {
  "kernelspec": {
   "display_name": "Python 3 (ipykernel)",
   "language": "python",
   "name": "python3"
  },
  "language_info": {
   "codemirror_mode": {
    "name": "ipython",
    "version": 3
   },
   "file_extension": ".py",
   "mimetype": "text/x-python",
   "name": "python",
   "nbconvert_exporter": "python",
   "pygments_lexer": "ipython3",
   "version": "3.9.5"
  }
 },
 "nbformat": 4,
 "nbformat_minor": 5
}
