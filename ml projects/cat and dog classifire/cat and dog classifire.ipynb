{
 "cells": [
  {
   "cell_type": "markdown",
   "id": "e78b0f7a",
   "metadata": {},
   "source": [
    "# lets start with importing the libraries"
   ]
  },
  {
   "cell_type": "code",
   "execution_count": 1,
   "id": "7810e4d3",
   "metadata": {},
   "outputs": [],
   "source": [
    "import numpy as np # linear algebra\n",
    "import pandas as pd # data processing, CSV file I/O (e.g. pd.read_csv)\n",
    "import cv2\n",
    "import tensorflow as tf\n",
    "from tensorflow.keras.models import Sequential\n",
    "from tensorflow.keras.layers import Dense, Flatten, Dropout, Activation, Conv2D, MaxPooling2D\n",
    "import os\n",
    "from tensorflow.keras import models,layers"
   ]
  },
  {
   "cell_type": "markdown",
   "id": "2b10a974",
   "metadata": {},
   "source": [
    "# create dataset and labels"
   ]
  },
  {
   "cell_type": "code",
   "execution_count": 2,
   "id": "6896bcd4",
   "metadata": {},
   "outputs": [],
   "source": [
    "path='cat and dog/train'\n",
    "n=['Cat','Dog']\n",
    "X=[]\n",
    "y=[]"
   ]
  },
  {
   "cell_type": "code",
   "execution_count": 3,
   "id": "ee0db5ff",
   "metadata": {},
   "outputs": [],
   "source": [
    "for i in n:\n",
    "    a=os.listdir(os.path.join(path,i))\n",
    "    for j in a:\n",
    "        try:\n",
    "            img=cv2.imread(os.path.join(path,i,j))\n",
    "            new=cv2.resize(img,(70,70))\n",
    "            X.append(new)\n",
    "            if i=='Cat':\n",
    "                y.append(1)\n",
    "            else:\n",
    "                y.append(0)\n",
    "        except:\n",
    "            pass\n",
    "        "
   ]
  },
  {
   "cell_type": "markdown",
   "id": "fbf2e43e",
   "metadata": {},
   "source": [
    "# we should convert lists into  the numpy arrays and reshape X"
   ]
  },
  {
   "cell_type": "code",
   "execution_count": 4,
   "id": "c5f1e98f",
   "metadata": {},
   "outputs": [],
   "source": [
    "X = np.array(X).reshape(-1, 70,70,3) # important\n",
    "y = np.array(y)"
   ]
  },
  {
   "cell_type": "markdown",
   "id": "77b5eb30",
   "metadata": {},
   "source": [
    "# normalize data"
   ]
  },
  {
   "cell_type": "code",
   "execution_count": 5,
   "id": "9085bd66",
   "metadata": {},
   "outputs": [],
   "source": [
    "#Normalize data\n",
    "X = X/255.0"
   ]
  },
  {
   "cell_type": "code",
   "execution_count": 6,
   "id": "1ae5e653",
   "metadata": {},
   "outputs": [
    {
     "data": {
      "text/plain": [
       "(70, 70, 3)"
      ]
     },
     "execution_count": 6,
     "metadata": {},
     "output_type": "execute_result"
    }
   ],
   "source": [
    "X.shape[1:]"
   ]
  },
  {
   "cell_type": "markdown",
   "id": "034e4485",
   "metadata": {},
   "source": [
    "# let's train our model"
   ]
  },
  {
   "cell_type": "code",
   "execution_count": 7,
   "id": "0734afb1",
   "metadata": {},
   "outputs": [],
   "source": [
    "data_agumentation=tf.keras.Sequential([\n",
    "    layers.experimental.preprocessing.RandomFlip('horizontal_and_vertical'),\n",
    "    layers.experimental.preprocessing.RandomRotation(0.2)\n",
    "])"
   ]
  },
  {
   "cell_type": "code",
   "execution_count": 8,
   "id": "027ba626",
   "metadata": {},
   "outputs": [],
   "source": [
    "model=models.Sequential([\n",
    "    data_agumentation,\n",
    "    layers.Conv2D(64,(3,3),activation='relu',input_shape=X.shape[1:]),\n",
    "    layers.MaxPooling2D((2,2)),\n",
    "    layers.Conv2D(64,(3,3),activation='relu'),\n",
    "    layers.MaxPooling2D((2,2)),\n",
    "\n",
    " \n",
    "   \n",
    "    \n",
    "    layers.Flatten(),\n",
    "    layers.Dense(64,activation='relu'),\n",
    "    layers.Dense(1,activation='sigmoid'),\n",
    "    \n",
    "])\n",
    "\n",
    "model.compile(optimizer=\"adam\",\n",
    "              loss='binary_crossentropy',\n",
    "              metrics=['accuracy'])"
   ]
  },
  {
   "cell_type": "code",
   "execution_count": 9,
   "id": "dec05291",
   "metadata": {
    "scrolled": true
   },
   "outputs": [
    {
     "name": "stdout",
     "output_type": "stream",
     "text": [
      "542/542 [==============================] - 79s 145ms/step - loss: 0.6214 - accuracy: 0.6678 - val_loss: 0.6735 - val_accuracy: 0.6147\n"
     ]
    },
    {
     "data": {
      "text/plain": [
       "<keras.callbacks.History at 0x14715a7dd30>"
      ]
     },
     "execution_count": 9,
     "metadata": {},
     "output_type": "execute_result"
    }
   ],
   "source": [
    "model.fit(X, y, epochs=1, batch_size=32, validation_split=0.2)"
   ]
  },
  {
   "cell_type": "markdown",
   "id": "2f488d91",
   "metadata": {},
   "source": [
    "# predict images using model"
   ]
  },
  {
   "cell_type": "code",
   "execution_count": 10,
   "id": "2302873a",
   "metadata": {},
   "outputs": [],
   "source": [
    "def ds(img):\n",
    "    filepath='cat and dog/validation/'\n",
    "    img=cv2.imread(filepath + img)\n",
    "    new=cv2.resize(img,(70,70))\n",
    "    nr=new.reshape(-1,70,70,3)\n",
    "    return nr"
   ]
  },
  {
   "cell_type": "code",
   "execution_count": 11,
   "id": "7a9a1e23",
   "metadata": {},
   "outputs": [
    {
     "data": {
      "text/plain": [
       "array([[1.]], dtype=float32)"
      ]
     },
     "execution_count": 11,
     "metadata": {},
     "output_type": "execute_result"
    }
   ],
   "source": [
    "model.predict(ds('2.jpg'))"
   ]
  },
  {
   "cell_type": "code",
   "execution_count": 13,
   "id": "38429ab8",
   "metadata": {},
   "outputs": [
    {
     "name": "stdout",
     "output_type": "stream",
     "text": [
      "[[0.]]\n",
      "[[1.]]\n",
      "[[0.]]\n",
      "[[1.6023554e-28]]\n",
      "[[0.]]\n",
      "[[3.187937e-38]]\n",
      "[[0.]]\n",
      "[[0.]]\n",
      "[[1.]]\n",
      "[[3.9632162e-38]]\n",
      "[[0.]]\n",
      "[[0.]]\n",
      "[[0.]]\n",
      "[[0.]]\n",
      "[[0.]]\n",
      "[[2.469099e-32]]\n"
     ]
    }
   ],
   "source": [
    "for i in range(144,160):\n",
    "    a=model.predict(ds('{}.jpg'.format(i)))\n",
    "    print(a)"
   ]
  },
  {
   "cell_type": "code",
   "execution_count": null,
   "id": "bfece6a0",
   "metadata": {},
   "outputs": [],
   "source": []
  }
 ],
 "metadata": {
  "kernelspec": {
   "display_name": "Python 3 (ipykernel)",
   "language": "python",
   "name": "python3"
  },
  "language_info": {
   "codemirror_mode": {
    "name": "ipython",
    "version": 3
   },
   "file_extension": ".py",
   "mimetype": "text/x-python",
   "name": "python",
   "nbconvert_exporter": "python",
   "pygments_lexer": "ipython3",
   "version": "3.9.7"
  }
 },
 "nbformat": 4,
 "nbformat_minor": 5
}
